{
  "cells": [
    {
      "metadata": {
        "_uuid": "6429bc146e4ddbe14d5f65cd2943dfcd44771744"
      },
      "cell_type": "markdown",
      "source": "This is some fun analysis of the Google Patents Public data set.\n\nFirst, a picture of one of the more enjoyable patents of all time...lego patent [USD253711S](https://patents.google.com/patent/USD253711S/en) :)"
    },
    {
      "metadata": {
        "_kg_hide-input": true,
        "trusted": true,
        "scrolled": true,
        "_uuid": "7052c4d8adc920bccb5fd6ea7c65625c7b3ce4f3"
      },
      "cell_type": "code",
      "source": "from IPython.display import Image\nurl = 'https://patentimages.storage.googleapis.com/pages/USD253711-2.png'\nImage(url=url,width=800, height=600)",
      "execution_count": null,
      "outputs": []
    },
    {
      "metadata": {
        "_uuid": "7f49691561d3c3e32b462b9e0fc099b580aba18e"
      },
      "cell_type": "markdown",
      "source": "**Step 1** - Prep BigQuery connection."
    },
    {
      "metadata": {
        "_uuid": "8f2839f25d086af736a60e9eeb907d3b93b6e0e5",
        "_cell_guid": "b1076dfc-b9ad-4769-8c92-a6c4dae69d19",
        "trusted": true
      },
      "cell_type": "code",
      "source": "import numpy as np # linear algebra\nimport pandas as pd # data processing, CSV file I/O (e.g. pd.read_csv)\nimport bq_helper\nfrom bq_helper import BigQueryHelper\nimport plotly.offline as py\nfrom plotly.offline import init_notebook_mode, iplot\ninit_notebook_mode(connected=True)\nimport plotly.figure_factory as ff\n\n# prepare bigQuery helper\npatents = bq_helper.BigQueryHelper(active_project=\"patents-public-data\",\n                                   dataset_name=\"patents\")\nbq_assistant = BigQueryHelper(\"patents-public-data\", \"patents\")\nbq_assistant.list_tables()\n#patents.table_schema(\"publications\")\n#patents.head(\"publications\")\n#patents.head(\"publications\",selected_columns=\"application_number_formatted,inventor,country_code\", num_rows=10)",
      "execution_count": null,
      "outputs": []
    },
    {
      "metadata": {
        "_uuid": "0b80d7ab62abb30eb0ee56f3b67824e25f4502c7"
      },
      "cell_type": "markdown",
      "source": "**Step 2** - Load USPTO patent codes that I brought in as a new dataset from the [USPTO website](https://www.uspto.gov/web/patents/classification/selectnumwithtitle.htm)."
    },
    {
      "metadata": {
        "trusted": true,
        "_uuid": "a988e575c25b2eb089d27e85132c2eb7c9c9689a"
      },
      "cell_type": "code",
      "source": "#import os\n#print(os.listdir(\"../input\"))\nUSPTO_patent_codes = pd.read_csv('../input/USPTO patent codes.csv')\nUSPTO_patent_codes.head(5)",
      "execution_count": null,
      "outputs": []
    },
    {
      "metadata": {
        "_cell_guid": "79c7e3d0-c299-4dcb-8224-4455121ee9b0",
        "_uuid": "d629ff2d2480ee46fbb7e2d37f6b5fab8052498a",
        "trusted": true
      },
      "cell_type": "markdown",
      "source": "**Step 3** - Query to find all inventors that have over 100 patents that were granted. I was happy that I got to use two of my favorite SQL commands in this: WITH and UNNEST. :)"
    },
    {
      "metadata": {
        "trusted": true,
        "_uuid": "9256e905c3fdf5405de547e033ea14ebce974a99",
        "scrolled": true
      },
      "cell_type": "code",
      "source": "# create query to be run\nquery1 = \"\"\"\nWITH temp1 AS (\n    SELECT\n      DISTINCT\n      PUB.country_code,\n      PUB.application_number AS patent_number,\n      inventor_name\n    FROM\n      `patents-public-data.patents.publications` PUB\n    CROSS JOIN\n      UNNEST(PUB.inventor) AS inventor_name\n    WHERE\n          PUB.grant_date > 0\n      AND PUB.country_code IS NOT NULL\n      AND PUB.application_number IS NOT NULL\n      AND PUB.inventor IS NOT NULL\n)\nSELECT\n  *\nFROM (\n    SELECT\n     temp1.country_code AS country,\n     temp1.inventor_name AS inventor,\n     COUNT(temp1.patent_number) AS count_of_patents\n    FROM temp1\n    GROUP BY\n     temp1.country_code,\n     temp1.inventor_name\n     )\nWHERE\n count_of_patents > 100\n;\n\"\"\"\n# Check size of data being examined by query\n#patents.estimate_query_size(query1)\n\n# Run query \nquery_results = patents.query_to_pandas_safe(query1, max_gb_scanned=6)\nprint(\"Number of records:\", len(query_results.index))\nquery_results.head(5)",
      "execution_count": null,
      "outputs": []
    },
    {
      "metadata": {
        "_uuid": "9c6ddd6a89fbee06d0e64a7dfb34fc932b0b0fb5"
      },
      "cell_type": "markdown",
      "source": "**Step 4** - sort the results to view the top 50 inventors in the US by volume of patents. I had fun googling some of the top names on here to get a sense for what they're focused on."
    },
    {
      "metadata": {
        "trusted": true,
        "_uuid": "f351337623e995790fce5b8ea64ea20d01bfe155"
      },
      "cell_type": "code",
      "source": "# reduce results down to the top 50 inventors in the US\ntop_50_inventors = query_results.loc[query_results['country'] == \"US\"].nlargest(50,'count_of_patents')\n\n# show the top 50 in a plotly table\ntable1 = ff.create_table(top_50_inventors)\npy.iplot(table1, filename='jupyter-table1')",
      "execution_count": null,
      "outputs": []
    },
    {
      "metadata": {
        "_uuid": "92802969122c2479b462e2d588cf8a772d4bd4d9"
      },
      "cell_type": "markdown",
      "source": "**TO DO...Step 5** - Plot top areas of invention for the top 50 inventors in the US by bringing the Google patent data together with the USPTO codes."
    }
  ],
  "metadata": {
    "kernelspec": {
      "display_name": "Python 3",
      "language": "python",
      "name": "python3"
    },
    "language_info": {
      "name": "python",
      "version": "3.6.6",
      "mimetype": "text/x-python",
      "codemirror_mode": {
        "name": "ipython",
        "version": 3
      },
      "pygments_lexer": "ipython3",
      "nbconvert_exporter": "python",
      "file_extension": ".py"
    }
  },
  "nbformat": 4,
  "nbformat_minor": 1
}