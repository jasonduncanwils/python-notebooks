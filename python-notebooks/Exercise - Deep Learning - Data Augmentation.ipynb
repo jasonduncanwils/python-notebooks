{
  "cells": [
    {
      "metadata": {
        "_uuid": "cf4d94a03630a3c96e1cdcc8ad30531d9f26027a",
        "_cell_guid": "8c136987-f34c-43fa-990f-617271286730"
      },
      "cell_type": "markdown",
      "source": "# Exercise Introduction\nWe will return to the automatic rotation problem you worked on in the previous exercise.\n\nWe also supply much of the code you've already worked with.  Fork this notebook and take on the data augmentation step (step 2 below)."
    },
    {
      "metadata": {
        "_uuid": "dbd1d5435ad372a3d29894aa3cc0a54c273de5bb",
        "_cell_guid": "fff79260-ee8a-49bc-b3fa-1a1605f59503"
      },
      "cell_type": "markdown",
      "source": "# 1) Specify and Compile the Model\nThis works the same way as in the code you've previously worked on. So you receive a complete version of it here.  Run this cell to specify and compile the model"
    },
    {
      "metadata": {
        "_kg_hide-output": true,
        "_uuid": "ccc19563d364a7b74b13165e2f23e99f515d94e1",
        "_cell_guid": "643fec2c-dca2-4449-9c20-5b947b81931b",
        "trusted": true
      },
      "cell_type": "code",
      "source": "from tensorflow.python.keras.applications import ResNet50\nfrom tensorflow.python.keras.models import Sequential\nfrom tensorflow.python.keras.layers import Dense, Flatten, GlobalAveragePooling2D\n\nnum_classes = 2\nresnet_weights_path = '../input/resnet50/resnet50_weights_tf_dim_ordering_tf_kernels_notop.h5'\n\nmy_new_model = Sequential()\nmy_new_model.add(ResNet50(include_top=False, pooling='avg', weights=resnet_weights_path))\nmy_new_model.add(Dense(num_classes, activation='softmax'))\n\nmy_new_model.layers[0].trainable = False\n\nmy_new_model.compile(optimizer='sgd', loss='categorical_crossentropy', metrics=['accuracy'])",
      "execution_count": null,
      "outputs": []
    },
    {
      "metadata": {
        "_uuid": "b9818760270d111fb1b33c466e64b3528883743c",
        "_cell_guid": "5055373a-9e7a-419a-8542-1aebfee87909"
      },
      "cell_type": "markdown",
      "source": "# 2) Fit the Model Using Data Augmentation\n\nFill in the blanks, and uncomment those lines of code.  After doing that, you can run this cell and you should get a model that achieves about 90% accuracy.  By using data augmentation, you cut the error rate in half."
    },
    {
      "metadata": {
        "_uuid": "393ada72fc56a965de6dc55dd7fe3229fda4b65f",
        "_cell_guid": "dc33e4fa-7207-44db-83ef-3e037527b37d",
        "trusted": true
      },
      "cell_type": "code",
      "source": "from tensorflow.python.keras.applications.resnet50 import preprocess_input\nfrom tensorflow.python.keras.preprocessing.image import ImageDataGenerator\n\nimage_size = 224\n\n# Specify the values for all arguments to data_generator_with_aug. Then uncomment those lines\ndata_generator_with_aug = ImageDataGenerator(preprocessing_function=preprocess_input,\n                                              horizontal_flip = True,\n                                              width_shift_range = 0.2,\n                                              height_shift_range = 0.2)\n            \ndata_generator_no_aug = ImageDataGenerator(preprocessing_function=preprocess_input)\n\n\n# Specify which type of ImageDataGenerator above is to load in training data\ntrain_generator = data_generator_with_aug.flow_from_directory(\n        directory = '../input/dogs-gone-sideways/images/train',\n        target_size=(image_size, image_size),\n        batch_size=12,\n        class_mode='categorical')\n\n# Specify which type of ImageDataGenerator above is to load in validation data\nvalidation_generator = data_generator_no_aug.flow_from_directory(\n        directory = '../input/dogs-gone-sideways/images/val',\n        target_size=(image_size, image_size),\n        class_mode='categorical')\n\nmy_new_model.fit_generator(\n        train_generator, # specify where model gets training data\n        epochs = 3,\n        steps_per_epoch=19,\n        validation_data=validation_generator) # specify where model gets validation data",
      "execution_count": null,
      "outputs": []
    },
    {
      "metadata": {
        "_uuid": "88fc74f4b652ac35639ad223a62751f898390268",
        "_cell_guid": "3177b48f-45c3-4c74-bbc4-cf511e012e19"
      },
      "cell_type": "markdown",
      "source": "# Keep Going\nYou are ready for [a deeper understanding of deep learning](https://www.kaggle.com/dansbecker/a-deeper-understanding-of-deep-learning/)."
    }
  ],
  "metadata": {
    "kernelspec": {
      "display_name": "Python 3",
      "language": "python",
      "name": "python3"
    },
    "language_info": {
      "name": "python",
      "version": "3.6.6",
      "mimetype": "text/x-python",
      "codemirror_mode": {
        "name": "ipython",
        "version": 3
      },
      "pygments_lexer": "ipython3",
      "nbconvert_exporter": "python",
      "file_extension": ".py"
    }
  },
  "nbformat": 4,
  "nbformat_minor": 1
}