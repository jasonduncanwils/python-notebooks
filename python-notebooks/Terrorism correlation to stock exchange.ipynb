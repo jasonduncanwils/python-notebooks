{
  "cells": [
    {
      "metadata": {
        "_cell_guid": "e6f7ea2d-f6df-47d8-82bd-6633531d4bb4",
        "_uuid": "f0f77270fea8cce919bc4a16725e625e9b6315f3"
      },
      "cell_type": "markdown",
      "source": "This notebook is a quick exploration of the Global Terrorism Database in relation to DJIA stock prices. I quickly realized that there isn't enough stock price data in this data set to overlap some of the major US terrorism events that I expected would show correlation to stock price. So I'm publishing this as just the start of a kernel and perhaps come back to it if a more complete set of stock price data is uploaded to Kaggle."
    },
    {
      "metadata": {
        "_kg_hide-output": false,
        "collapsed": true,
        "_uuid": "8282a68b7cacdf5fcff7cd686af18714edb2d89b",
        "_cell_guid": "fcc311ff-da38-4d7c-95c1-91ef3a85f84c",
        "scrolled": true,
        "_kg_hide-input": false,
        "trusted": false
      },
      "cell_type": "code",
      "source": "import numpy as np\nimport pandas as pd\nimport matplotlib.pyplot as plt\nfrom subprocess import check_output\n\nprint('Data sets imported:')\nprint(check_output([\"ls\", \"../input\"]).decode(\"utf8\"))",
      "execution_count": null,
      "outputs": []
    },
    {
      "metadata": {
        "_cell_guid": "0b5070db-d189-4d15-b247-ecf77842c16d",
        "_uuid": "4ac0520e974e820df337bc6a12776029fbdf5d9b"
      },
      "cell_type": "markdown",
      "source": "First, the Global Terrorism Database data set is imported and cleaned up."
    },
    {
      "metadata": {
        "collapsed": true,
        "_cell_guid": "4b39039e-e8b8-4afc-8534-c091ad053252",
        "scrolled": false,
        "_uuid": "881e1e5d61eac1afe32bd2e3b9ec1f6dc643b56c",
        "trusted": false
      },
      "cell_type": "code",
      "source": "attacks = pd.read_csv('../input/gtd/globalterrorismdb_0617dist.csv',\n                      encoding='ISO-8859-1',\n                      usecols=[0, 1, 2, 3, 7, 8, 13, 14, 98, 101])\nattacks.rename(columns={'eventid':'event_ID',\n                        'iyear':'year',\n                        'imonth':'month',\n                        'iday':'day',\n                        'country':'country_code',\n                        'country_txt':'country',\n                        'nkill':'number_killed',\n                        'nwound':'number_wounded',},inplace=True)\nattacks['number_killed'] = attacks['number_killed'].fillna(0).astype(int)\nattacks['number_wounded'] = attacks['number_wounded'].fillna(0).astype(int)\nattacks.loc[attacks.day==0,'day'] = 1\nattacks.loc[attacks.month==0,'month'] = 1\nattacks['date'] = pd.to_datetime(attacks[['day','month','year']])\nattacks = attacks.drop_duplicates(['date', 'latitude', 'longitude', 'number_killed'])\nattacks.set_index('date', inplace=True) #change the dataframe index to a date\nattacks_usa = attacks[(attacks.country == 'United States')] #reduce to just USA rows\nattacks_usa = attacks_usa[['number_killed','number_wounded']] #reduce the number of columns\nattacks_usa.head(5)",
      "execution_count": null,
      "outputs": []
    },
    {
      "metadata": {
        "_cell_guid": "b06b1df5-ddba-45de-a813-71dd19616d9d",
        "_uuid": "7551b76ddf3a860c7f5088831b73ae492f947b94"
      },
      "cell_type": "markdown",
      "source": "Next, a similar import and cleanse approach was taken on the DJIA stock data as well."
    },
    {
      "metadata": {
        "collapsed": true,
        "_cell_guid": "7a0329ff-ead8-44bd-89a1-3bd3f8721d2a",
        "scrolled": true,
        "_uuid": "d969d6dc4b22abe0f67e76844e45ea0fdcbe4463",
        "trusted": false
      },
      "cell_type": "code",
      "source": "stocks = pd.read_csv('../input/stock-time-series-20050101-to-20171231/all_stocks_2006-01-01_to_2018-01-01.csv',\n                      encoding='ISO-8859-1')\nstocks.columns = [x.lower() for x in stocks.columns]\nstocks['date'] = pd.to_datetime(stocks['date'])\nstocks.set_index('date', inplace=True) #change the dataframe index to a date\nstocks = stocks.resample('D').mean()\nstocks = stocks[['close']] #reduce the number of columns\nstocks.dropna(axis=0,how='any',inplace=True)\nstocks.head(5)",
      "execution_count": null,
      "outputs": []
    },
    {
      "metadata": {
        "_cell_guid": "7debb10c-d44b-4d4f-a849-609550e52dc4",
        "_uuid": "0c0fcd8f81d77a61e655d597f79f8c8df35bd55c"
      },
      "cell_type": "markdown",
      "source": "Calculate the difference in stock by day."
    },
    {
      "metadata": {
        "collapsed": true,
        "_uuid": "827100af9b52689279dcf485f30d4608db61ac62",
        "_cell_guid": "9a0a3f1a-073d-4749-8828-615bfdd99fbe",
        "trusted": false
      },
      "cell_type": "code",
      "source": "stocks['close_lagged'] = stocks.close.shift(1)\nstocks['close_diff'] = stocks['close'] - stocks['close_lagged']\nstocks = stocks[['close','close_diff']]\nstocks.dropna(axis=0,how='any',inplace=True)\nstocks.head(5)",
      "execution_count": null,
      "outputs": []
    },
    {
      "metadata": {
        "_cell_guid": "8e1e546f-617b-4bcb-aea4-90cccb274d4f",
        "_uuid": "fb59f5b5cc3c50e41ec0ed89d8eae270da5b560a"
      },
      "cell_type": "markdown",
      "source": "The graph below shows the number killed in US terrorist attacks by day compared to the DJIA stock price close by day. I then leveled both data sets to 0 to 1 so the scale would be consistent for visualizing."
    },
    {
      "metadata": {
        "collapsed": true,
        "_cell_guid": "4ad31e20-ced7-4392-b4d2-732edfca29e6",
        "scrolled": true,
        "_uuid": "a59127d1a8177275906c42bcd74dec2c24c292d1",
        "trusted": false
      },
      "cell_type": "code",
      "source": "plt.figure(figsize=(12, 5))\nplt.plot(attacks_usa.number_killed/attacks_usa.number_killed.max())\nplt.plot(stocks.close/stocks.close.max())\nplt.plot(stocks.close_diff/stocks.close_diff.max())\nplt.legend(bbox_to_anchor=(0., 1.02, 1., .102), loc=3,\n           ncol=1, mode=\"expand\", borderaxespad=0.)\nplt.show()",
      "execution_count": null,
      "outputs": []
    },
    {
      "metadata": {
        "_cell_guid": "2834a605-7d71-40ae-b4c5-98c0ba30ffe0",
        "_uuid": "4c591a0e4b86596fbc5568d557f4fb7bf4242e60"
      },
      "cell_type": "markdown",
      "source": "I had planned to explore ARIMA or Pearson Correlation to compare the two time series data sets but instead I stopped working on this because of the lack of stock price data.\n\nFor fun, I also calculated some z scores on the chart below."
    },
    {
      "metadata": {
        "collapsed": true,
        "_cell_guid": "f803d1b6-472c-448b-bfac-f11bb0603a47",
        "scrolled": true,
        "_uuid": "ed5e4d83eaa23610e0d8035a991fef0f42c1781c",
        "trusted": false
      },
      "cell_type": "code",
      "source": "cols = list(attacks_usa.columns)\nfor col in cols:\n    col_zscore = col + '_zscore'\n    attacks_usa[col_zscore] = (attacks_usa[col] - attacks_usa[col].mean())/attacks_usa[col].std(ddof=0)\n\ncols = list(stocks.columns)\nfor col in cols:\n    col_zscore = col + '_zscore'\n    stocks[col_zscore] = (stocks[col] - stocks[col].mean())/stocks[col].std(ddof=0)\n\nplt.figure(figsize=(12, 5))\nplt.plot(attacks_usa['number_killed_zscore'])\nplt.plot(stocks['close_zscore'])\nplt.legend(bbox_to_anchor=(0., 1.02, 1., .102), loc=3,\n           ncol=1, mode=\"expand\", borderaxespad=0.)\nplt.show()",
      "execution_count": null,
      "outputs": []
    }
  ],
  "metadata": {
    "kernelspec": {
      "display_name": "Python 3",
      "language": "python",
      "name": "python3"
    },
    "language_info": {
      "version": "3.6.5",
      "pygments_lexer": "ipython3",
      "mimetype": "text/x-python",
      "nbconvert_exporter": "python",
      "name": "python",
      "file_extension": ".py",
      "codemirror_mode": {
        "version": 3,
        "name": "ipython"
      }
    }
  },
  "nbformat": 4,
  "nbformat_minor": 1
}