{
  "cells": [
    {
      "metadata": {
        "_cell_guid": "29a8883f-a27f-4d55-b61d-a152a0c4d787",
        "_uuid": "137d5c810447a3619e2535c5f70acf3c54875d18"
      },
      "cell_type": "markdown",
      "source": "This is a bit of fun I had messing around with the NYC data along with some weather correlation. Thanks Kaggle team for pulling this together for us to use!\n\nFirst a quick video that came out leading up to the decriminalization of public urination in NYC  June 2017..."
    },
    {
      "metadata": {
        "_cell_guid": "23d416df-3c06-4aab-ae2e-bf98aa6e2f7e",
        "_kg_hide-input": true,
        "_uuid": "e891936ef67d212df4fb354e711b2feb4a8999f5",
        "trusted": true
      },
      "cell_type": "code",
      "source": "from IPython.display import YouTubeVideo\nYouTubeVideo('gsoHoem2kl4', width=800, height=450)",
      "execution_count": null,
      "outputs": []
    },
    {
      "metadata": {
        "_cell_guid": "8e952dc7-48a2-446d-aa9f-d47396c5a1fb",
        "_uuid": "dbb3b6da4d7e402b4a6563147830e4c90969f910"
      },
      "cell_type": "markdown",
      "source": "- - -\n\n**Initial data collection and prep...**\n\n1) Prep the BigQuery connectors to pull in \"NYC Open Data\" and \"NOAA GSOD\" (weather) data sets."
    },
    {
      "metadata": {
        "_cell_guid": "b1076dfc-b9ad-4769-8c92-a6c4dae69d19",
        "_kg_hide-input": true,
        "_uuid": "8f2839f25d086af736a60e9eeb907d3b93b6e0e5",
        "trusted": true
      },
      "cell_type": "code",
      "source": "import numpy as np\nimport numpy.polynomial.polynomial as poly\nimport pandas as pd\nimport matplotlib.pyplot as plt\nimport seaborn as sns\nfrom matplotlib.lines import Line2D\nfrom mpl_toolkits.basemap import Basemap\nimport os\nimport bq_helper\n\n# Connect to BigQuery datasets\nny_data_set = bq_helper.BigQueryHelper(active_project= \"bigquery-public-data\", \n                                       dataset_name = \"new_york\")\nnoaa_data_set = bq_helper.BigQueryHelper(active_project= \"bigquery-public-data\", \n                                         dataset_name = \"noaa_gsod\")\n\n#noaa_data_set.list_tables()\n#ny_data_set.table_schema(\"311_service_requests\")\n#ny_data_set.head(\"311_service_requests\")\n#ny_data_set.head(\"311_service_requests\",selected_columns=\"location\", num_rows=10)",
      "execution_count": null,
      "outputs": []
    },
    {
      "metadata": {
        "_cell_guid": "2a311040-b01a-4055-b291-c7683d08046c",
        "_uuid": "71aa5d8c69c515c6c49ac1876e287a311e34479a"
      },
      "cell_type": "markdown",
      "source": "2) Retrieve the NYC 311 data and pivot it so there is a column for every complaint type. I moved back to a numeric index after the pivot changed the index to a date - this ensures that polyfit will still work correctly in a later step."
    },
    {
      "metadata": {
        "_cell_guid": "79c7e3d0-c299-4dcb-8224-4455121ee9b0",
        "_kg_hide-input": true,
        "_uuid": "d629ff2d2480ee46fbb7e2d37f6b5fab8052498a",
        "trusted": true
      },
      "cell_type": "code",
      "source": "# Define query \nquery = \"\"\"\nSELECT \n Extract(DATE from created_date) AS creation_date, \n REPLACE(UPPER(complaint_type), \"HEATING\", \"HEAT/HOT WATER\") as complaint_type, \n COUNT(*) AS count \nFROM        `bigquery-public-data.new_york.311_service_requests` \nWHERE\n Extract(YEAR from created_date) = 2016\nGROUP BY creation_date, complaint_type \nORDER BY creation_date ASC, count DESC \n\"\"\" \n#ny_data_set.estimate_query_size(query)\n\n# Run query \ncomplaint_counts = ny_data_set.query_to_pandas_safe(query, max_gb_scanned=0.5)\n\n# Pivot complaint data to create new columns for all of the complaint types \ncomplaint_counts = complaint_counts.pivot(index='creation_date', columns='complaint_type', values='count')\ncomplaint_counts.columns = [c.lower()\n                            .replace(' ', '_')\n                            .replace('-', '_') \n                            .replace('/', '_') \n                            for c in complaint_counts.columns]\n# Fill zeros for missing values\ncomplaint_counts = complaint_counts.fillna(0)\n# Reset index to numeric values for later trending since the date took over the index \ncomplaint_counts[\"creation_date\"] = complaint_counts.index\ncomplaint_counts.index = range(len(complaint_counts.index))\n\n#print(complaint_counts.head())",
      "execution_count": null,
      "outputs": []
    },
    {
      "metadata": {
        "_cell_guid": "0088d493-6cea-46ee-aa9d-2fa976e41beb",
        "_uuid": "e9a44172ddfd5b4942d9f8b86da4baae6839440c"
      },
      "cell_type": "markdown",
      "source": "3) Retrieve weather data for the Central Park station in New York City."
    },
    {
      "metadata": {
        "_cell_guid": "20446349-7240-4703-8588-df32f914242a",
        "_kg_hide-input": true,
        "_uuid": "a8870a20dbdd54a612e919d183dc1d9edcb5f132",
        "collapsed": true,
        "trusted": false
      },
      "cell_type": "code",
      "source": "# Define query \nquery = \"\"\"\nSELECT \n CAST(CONCAT(w.year,'-',w.mo,'-',w.da) AS date) AS date,\n AVG(w.temp) AS avg_temp,\n MAX(w.max) AS max_temp,\n MIN(w.min) AS min_temp\nFROM        `bigquery-public-data.noaa_gsod.gsod2016`  w\nINNER JOIN  `bigquery-public-data.noaa_gsod.stations`  s\n ON w.stn=s.usaf\n AND w.wban=s.wban\nWHERE\n s.country='US'\n AND s.state = 'NY'\n AND s.name='CENTRAL PARK'\nGROUP BY date\nORDER BY date\n\"\"\"\n#noaa_data_set.estimate_query_size(query)\n\n# Run query \nweather_by_day = noaa_data_set.query_to_pandas_safe(query, max_gb_scanned=0.5)\n\n#print(weather_by_day.head(365))",
      "execution_count": null,
      "outputs": []
    },
    {
      "metadata": {
        "_cell_guid": "5b6fa8b0-c460-424e-b279-2aaead5241ff",
        "_uuid": "4b74d493507788aef1d4da5c1ec9a79631b72848"
      },
      "cell_type": "markdown",
      "source": "- - -\n\n**Public urination...**\n\nThis section pulls together complaints about public urination in NYC to show the correlation of higher complaint counts to nice weather and lower compliant counts to cold weather.\n\n1) Plot two independent axes both displayed on the x-axis."
    },
    {
      "metadata": {
        "_cell_guid": "b5e02c83-4007-4a9c-9d6b-9883282fef35",
        "_kg_hide-input": true,
        "_uuid": "02f9146daed382ca77a6edf0383f1074751ff8dc",
        "scrolled": true,
        "trusted": false
      },
      "cell_type": "code",
      "source": "# Create first axis\ncolor = 'tab:orange'\nX = complaint_counts.index\ny = complaint_counts.urinating_in_public\nfig, ax1 = plt.subplots(figsize=(12, 5))\nax1.set_xlabel('time (days)')\nax1.set_ylabel('urine', color=color)\nax1.plot(X, y, color=color)\ncoefs = poly.polyfit(X, y, 4)\nffit = poly.polyval(X, coefs)\nax1.plot(X, ffit, dashes=[6, 2], color=color)\nax1.tick_params(axis='y', labelcolor=color)\n\n# Create second axis\ncolor = 'tab:green'\nX = weather_by_day.index\ny = weather_by_day.avg_temp\nax2 = ax1.twinx()  # instantiate a second axes that shares the same x-axis\nax2.set_ylabel('temp', color=color)\nax2.plot(y, color=color)\ncoefs = poly.polyfit(X, y, 4)\nffit = poly.polyval(X, coefs)\nax2.plot(X, ffit, dashes=[6, 2], color=color)\nax2.tick_params(axis='y', labelcolor=color)\n\n# Display plot\nplt.show()",
      "execution_count": null,
      "outputs": []
    },
    {
      "metadata": {
        "_cell_guid": "2da342cd-9801-4082-a218-2452fad878b9",
        "_uuid": "5a33a3c3725f2241562164299656f3e05fe96283"
      },
      "cell_type": "markdown",
      "source": "2) Plot all of the occurrences of public urination on a map.\n\n**Note:** I found that Basemap is quite slow to compile compared to many other mapping tools I've used previously. I need to look into this more at some point to understand why."
    },
    {
      "metadata": {
        "_cell_guid": "71be0ceb-5ade-4076-a112-9345efd6a4d0",
        "_kg_hide-input": true,
        "_uuid": "a7e13e44985b0684da77a7b1fac79a8b16a1cbfd",
        "collapsed": true,
        "scrolled": true,
        "trusted": false
      },
      "cell_type": "code",
      "source": "query = \"\"\"\nSELECT \n REPLACE(UPPER(complaint_type), \"HEATING\", \"HEAT/HOT WATER\") as complaint_type, \n EXTRACT(DAYOFWEEK FROM created_date) AS day_of_week,\n EXTRACT(HOUR FROM created_date)+1 AS hour_of_day,\n latitude,\n longitude\nFROM        `bigquery-public-data.new_york.311_service_requests` \nWHERE\n     Extract(YEAR from created_date) = 2016\n AND complaint_type = 'Urinating in Public'\n AND latitude IS NOT NULL\n\"\"\"\n#ny_data_set.estimate_query_size(query)\n\n# Run query \npublic_urination = ny_data_set.query_to_pandas_safe(query, max_gb_scanned=1)\n#public_urination['postal_code'] = pd.to_numeric(public_urination.postal_code, errors='coerce')\n\n#print(public_urination)",
      "execution_count": null,
      "outputs": []
    },
    {
      "metadata": {
        "_cell_guid": "1173adf5-2f3b-4a93-9710-d174317899d4",
        "_kg_hide-input": true,
        "_uuid": "cd6d64c3b30aea3451e1f33e116d85f857f286da",
        "collapsed": true,
        "trusted": false
      },
      "cell_type": "code",
      "source": "plt.figure(figsize=(12, 6))\n\n# Prep map base\nmap = Basemap(llcrnrlon=-74.1,\n              llcrnrlat=40.6,\n              urcrnrlon=-73.7,\n              urcrnrlat=40.90,\n              resolution = 'f')\nmap.drawmapboundary(fill_color='aqua')\nmap.fillcontinents(color='white',lake_color='aqua', zorder=1) # zorder keeps this behind scatter points\nmap.drawcoastlines()\n\n# Plot point on map\nx, y = map(public_urination['longitude'], public_urination['latitude'])\nmap.scatter(x, y, s=1, color='#FF8C00', zorder=2)\n\n#Display map\nplt.title('Public Urination occurrences', fontsize=20)\nplt.show()",
      "execution_count": null,
      "outputs": []
    },
    {
      "metadata": {
        "_cell_guid": "8a31156e-deb2-41d2-a158-e3dbb72b0169",
        "_uuid": "a64be63c3cf5a856c25d9cae94135687aae898f6"
      },
      "cell_type": "markdown",
      "source": "3) Show the most prevalent day of week for public urination by month. (days of week are on the x axis starting with Sunday as day 1 and ending with Saturday as day 7."
    },
    {
      "metadata": {
        "_cell_guid": "57c85b1d-e2c5-4fdb-92bd-f61fe7ba2c82",
        "_kg_hide-input": true,
        "_uuid": "663c5eda9916cf16d1c60c63b367850539a1fce5",
        "collapsed": true,
        "trusted": false
      },
      "cell_type": "code",
      "source": "ax = sns.jointplot(x='day_of_week', \n                   y='hour_of_day', \n                   data=public_urination, \n                   kind=\"kde\", \n                   ratio=4, size=8, space=0)\n\n#ax = sns.jointplot(x='hour_of_day', \n#                   y='day_of_week', \n#                   data=public_urination,\n#                   kind='hex', \n#                   gridsize=20,\n#                   space=1)\n\n#ax = public_urination.plot.hexbin(x='day_of_week', \n#                                  y='hour_of_day', \n#                                  gridsize=15, \n#                                  figsize=(12, 6),\n#                                  fontsize=16)\n\n# remove the boundaries around the outside of the plot\nsns.despine(bottom=True, left=True)",
      "execution_count": null,
      "outputs": []
    },
    {
      "metadata": {
        "_cell_guid": "2688a41b-82a9-4be9-af03-f5fe62210d68",
        "_uuid": "709602ca221fbf76c641973a7c41bcd4c5329c45"
      },
      "cell_type": "markdown",
      "source": "- - -\n\n**Complaint types most affected by weather**\n\nRealizing that there is a correlation between public urination and weather made me want to take this a step further and discover the top 311 complaint types overall that are affected by weather."
    },
    {
      "metadata": {
        "_cell_guid": "4a6efde6-618c-477a-8c9d-d55311fbc585",
        "_uuid": "caa1fabd9ffddd0bd1e37807f27074fd1cf257da"
      },
      "cell_type": "markdown",
      "source": "1) Calculate heating and cooling \"degree days\" to normalize the temperature into something a little easier to compare."
    },
    {
      "metadata": {
        "_cell_guid": "c3d344cf-520b-4f6a-ac5f-fbfa5c73c172",
        "_kg_hide-input": true,
        "_uuid": "73e7b787a69ee2b6c40ad4a3de06f8a7f0bc027a",
        "collapsed": true,
        "trusted": false
      },
      "cell_type": "code",
      "source": "# Calculate heating and cooling degree days \nchange_point = 65\nweather_by_day['raw_degree_day_calc'] = change_point - weather_by_day['avg_temp']\nweather_by_day['HDD'] = abs(weather_by_day.loc[weather_by_day.raw_degree_day_calc>0,'raw_degree_day_calc'])\nweather_by_day['HDD'] = weather_by_day['HDD'].fillna(0)\nweather_by_day['CDD'] = abs(weather_by_day.loc[weather_by_day.raw_degree_day_calc<0,'raw_degree_day_calc'])\nweather_by_day['CDD'] = weather_by_day['CDD'].fillna(0)\n#weather_by_day['total_degree_days'] = weather_by_day['HDD'] + weather_by_day['CDD']\n\n#print(weather_by_day.head(200))",
      "execution_count": null,
      "outputs": []
    },
    {
      "metadata": {
        "_cell_guid": "e9204a5f-2ba9-4178-94a7-36d5314af738",
        "_uuid": "66fb298d7ef8a5d7ed56616dd3f2af77022d2b4d"
      },
      "cell_type": "markdown",
      "source": "2) Chart the degree days to see how they turned out."
    },
    {
      "metadata": {
        "_cell_guid": "b6da396d-46d4-438c-a1c2-1f37b082f888",
        "_kg_hide-input": true,
        "_uuid": "bf0738fb5c5b6f9c405db0b485f2d43927791f5c",
        "collapsed": true,
        "scrolled": true,
        "trusted": false
      },
      "cell_type": "code",
      "source": "plt.figure(figsize=(12, 5))\nplt.plot(weather_by_day.HDD, color='tab:red')\nplt.plot(weather_by_day.CDD, color='tab:blue')\nplt.plot(weather_by_day.avg_temp, color='tab:green')\nplt.legend(bbox_to_anchor=(0., 1.02, 1., .102), loc=3,\n           ncol=1, mode=\"expand\", borderaxespad=0.)\nplt.show()",
      "execution_count": null,
      "outputs": []
    },
    {
      "metadata": {
        "_cell_guid": "064b24bf-9a90-406c-8ccb-80072c9b7210",
        "_uuid": "2cfe63cd5bf2298de7b456e8633f3345559e3e9c"
      },
      "cell_type": "markdown",
      "source": "3) Run Pearson Correlation for all complaint types against 3 different weather data points: average temperature, heating degree days, and cooling degree days. The result of this is a set of coefficients to inform us of the complaint types that correlate most with temperature."
    },
    {
      "metadata": {
        "_cell_guid": "c9620a06-40d6-4472-b166-21d98866324e",
        "_kg_hide-input": true,
        "_uuid": "512ece1a6003874613aea02555d5ba3be5f39b6d",
        "collapsed": true,
        "scrolled": true,
        "trusted": false
      },
      "cell_type": "code",
      "source": "# Define columns for new data frame that holds correlation coefficients for complaint types \ncorr_types = ['HDD','CDD','avg_temp']\ncomplaint_corr = pd.DataFrame(columns=['complaint_type']+corr_types)\n# add in complaint types and temp types \ncomplaint_corr['complaint_type'] = complaint_counts.drop(['creation_date'],axis=1).columns\ncomplaint_corr = pd.melt(complaint_corr, id_vars=['complaint_type'], \n                         var_name = 'temp_type', value_name = 'corrcoef')\n# calculate correlation coefficients against many weather data types for each complaint type \nfor index, row in complaint_corr.iterrows():\n    row['corrcoef'] = np.corrcoef(complaint_counts[row['complaint_type']],\n                                  weather_by_day[row['temp_type']])[0, 1]\n\n# Find the top complaint types that correlate the most\ncomplaint_corr = complaint_corr.sort_values(by='corrcoef', ascending=False)\ncomplaint_corr = complaint_corr.drop_duplicates(subset='complaint_type', keep=\"first\")\ncomplaint_corr.reset_index(drop=True, inplace=True)\ntop_complaint_corr = complaint_corr.head(30)\n\nprint(top_complaint_corr)",
      "execution_count": null,
      "outputs": []
    },
    {
      "metadata": {
        "_cell_guid": "0419c7c1-25c4-4853-b43f-34c6e2297b9e",
        "_uuid": "b44f80a0654a7b2cac13d97c73fb91b3bdd939f0"
      },
      "cell_type": "markdown",
      "source": "4) Chart the top 30 complaint types based on count of complaints that most correlate to weather."
    },
    {
      "metadata": {
        "_cell_guid": "e38045ae-d9a4-478b-9409-01f49d0a58f6",
        "_kg_hide-input": true,
        "_uuid": "94c87c667d6723848a32f990e2ffa40040200ba5",
        "collapsed": true,
        "scrolled": true,
        "trusted": false
      },
      "cell_type": "code",
      "source": "# Specify the chart types I want to create for the various temp types \nchart_types = pd.DataFrame([('Occurs mostly in cold temperature (degree days)','HDD','tab:red'),\n                            ('Occurs mostly in warm temperature (degree days)','CDD','tab:blue'),\n                            ('Correlation to be higher in warm temperature','avg_temp','tab:green')],\n                          columns=['title','temp_type','color'])\n\n# Iterate through the chart type to create them\nfor index, row in chart_types.iterrows():\n    custom_legend_lines = list()\n    \n    # Plot complaint types that had high correlation to the temp type\n    fig, ax1 = plt.subplots(figsize=(12, 5))\n    ax1.set_xlabel('time (days)')\n    ax1.set_ylabel('count of complaints')\n    for index2, row2 in top_complaint_corr.iterrows():\n        if row['temp_type'] == row2['temp_type']:\n            color = plt.cm.gist_ncar(np.random.random())\n            X = complaint_counts.index\n            y = complaint_counts[row2['complaint_type']]\n            ax1.plot(X, y, label=row2['complaint_type'], color=color)\n            custom_legend_lines.append(Line2D([0], [0], color=color, \n                                              lw=1, label=row2['complaint_type']))\n    \n    # Plot temp type\n    color=row['color']\n    X = weather_by_day.index\n    y = weather_by_day[row['temp_type']]\n    ax2 = ax1.twinx()  # instantiate a second axes that shares the same x-axis\n    ax2.set_ylabel(row['temp_type'], color=row['color'])\n    ax2.plot(y, label=row['temp_type'], color=color, linewidth=3)\n    ax2.tick_params(axis='y', labelcolor=row['color'])\n    custom_legend_lines.append(Line2D([0], [0], color=color, \n                                      lw=3, label=row['temp_type']))\n    \n    # Finalize chart \n    plt.legend(handles=custom_legend_lines, bbox_to_anchor=(1.05, 1), loc=2, borderaxespad=0.)\n    #plt.legend(bbox_to_anchor=(0., 1.02, 1., .102), loc=3,\n    #       ncol=1, mode=\"expand\", borderaxespad=0.)\n    plt.title(row['title'])\n    plt.show()",
      "execution_count": null,
      "outputs": []
    },
    {
      "metadata": {
        "_cell_guid": "24e8695c-f6f2-4ef3-8ae0-24e7518834e8",
        "_uuid": "17b635adeae89cf6a108fff65160f0ed933febec"
      },
      "cell_type": "markdown",
      "source": "5) This next set of charts is very similar to the last set but instead the complaint types are all normalized to a scale of 0 to 1 so they're visually more comparable to the weather data."
    },
    {
      "metadata": {
        "_cell_guid": "731bce11-62a6-4938-b4aa-e3484dda2283",
        "_kg_hide-input": true,
        "_uuid": "280bb3406989636996efdd2f2d4e351049742341",
        "collapsed": true,
        "trusted": false
      },
      "cell_type": "code",
      "source": "# Specify the chart types I want to create for the various temp types \nchart_types = pd.DataFrame([('Occurs mostly in cold temperature (degree days)','HDD','tab:red'),\n                            ('Occurs mostly in warm temperature (degree days)','CDD','tab:blue'),\n                            ('Correlation to be higher in warm temperature','avg_temp','tab:green')],\n                          columns=['title','temp_type','color'])\n\n# Iterate through the chart type to create them\nfor index, row in chart_types.iterrows():\n    custom_legend_lines = list()\n    \n    # Plot complaint types that had high correlation to the temp type\n    fig, ax1 = plt.subplots(figsize=(12, 5))\n    ax1.set_xlabel('time (days)')\n    ax1.set_ylabel('complaint range - 0 to 1')\n    for index2, row2 in top_complaint_corr.iterrows():\n        if row['temp_type'] == row2['temp_type']:\n            color = plt.cm.gist_ncar(np.random.random())\n            X = complaint_counts.index\n            # this is the main line that changed from the prior code to normalize the chart results \n            y = complaint_counts[row2['complaint_type']]/complaint_counts[row2['complaint_type']].max()\n            ax1.plot(X, y, label=row2['complaint_type'], color=color)\n            custom_legend_lines.append(Line2D([0], [0], color=color, \n                                              lw=1, label=row2['complaint_type']))\n    \n    # Plot temp type\n    color=row['color']\n    X = weather_by_day.index\n    y = weather_by_day[row['temp_type']]\n    ax2 = ax1.twinx()  # instantiate a second axes that shares the same x-axis\n    ax2.set_ylabel(row['temp_type'], color=row['color'])\n    ax2.plot(y, label=row['temp_type'], color=color, linewidth=3)\n    ax2.tick_params(axis='y', labelcolor=row['color'])\n    custom_legend_lines.append(Line2D([0], [0], color=color, \n                                      lw=3, label=row['temp_type']))\n    \n    # Finalize chart \n    plt.legend(handles=custom_legend_lines, bbox_to_anchor=(1.05, 1), loc=2, borderaxespad=0.)\n    #plt.legend(bbox_to_anchor=(0., 1.02, 1., .102), loc=3,\n    #       ncol=1, mode=\"expand\", borderaxespad=0.)\n    plt.title(row['title'])\n    plt.show()",
      "execution_count": null,
      "outputs": []
    },
    {
      "metadata": {
        "_cell_guid": "c4868b90-3e8a-452d-b99b-b5c940de2bb2",
        "_uuid": "8894d78ef3d493330f06c2e72ea30cfb83c4cf28"
      },
      "cell_type": "markdown",
      "source": "- - -\n\n**Other ideas for future exploration:**\n- find cases of repeated disorderly youth complaints in 311 to find grumpy people\n- buildings with sustained and extreme noise issues"
    }
  ],
  "metadata": {
    "kernelspec": {
      "display_name": "Python 3",
      "language": "python",
      "name": "python3"
    },
    "language_info": {
      "name": "python",
      "version": "3.6.6",
      "mimetype": "text/x-python",
      "codemirror_mode": {
        "name": "ipython",
        "version": 3
      },
      "pygments_lexer": "ipython3",
      "nbconvert_exporter": "python",
      "file_extension": ".py"
    }
  },
  "nbformat": 4,
  "nbformat_minor": 1
}