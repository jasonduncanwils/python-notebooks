{
  "cells": [
    {
      "metadata": {
        "_uuid": "013b55fc0d05e8f7d2e804fcf9923bc9fae8e9a7"
      },
      "cell_type": "markdown",
      "source": "# Exercises\n\n## Set Up\n\nToday you will create partial dependence plots and practice building insights with data from the [Taxi Fare Prediction](https://www.kaggle.com/c/new-york-city-taxi-fare-prediction) competition.\n\nWe have again provided code to do the basic loading, review and model-building. Run the cell below to set everything up:"
    },
    {
      "metadata": {
        "_uuid": "4bd9591406265adf12320c41490a10e2824159db",
        "trusted": true
      },
      "cell_type": "code",
      "source": "import pandas as pd\nfrom sklearn.ensemble import RandomForestRegressor\nfrom sklearn.linear_model import LinearRegression\nfrom sklearn.model_selection import train_test_split\n\n# Environment Set-Up for feedback system.\nimport sys\nsys.path.append('../input/ml-insights-tools')\nfrom learntools.core import binder\nbinder.bind(globals())\nfrom ex3 import *\nprint(\"Setup Complete\")\n\n# Data manipulation code below here\ndata = pd.read_csv('../input/new-york-city-taxi-fare-prediction/train.csv', nrows=50000)\n\n# Remove data with extreme outlier coordinates or negative fares\ndata = data.query('pickup_latitude > 40.7 and pickup_latitude < 40.8 and ' +\n                  'dropoff_latitude > 40.7 and dropoff_latitude < 40.8 and ' +\n                  'pickup_longitude > -74 and pickup_longitude < -73.9 and ' +\n                  'dropoff_longitude > -74 and dropoff_longitude < -73.9 and ' +\n                  'fare_amount > 0'\n                  )\n\ny = data.fare_amount\n\nbase_features = ['pickup_longitude',\n                 'pickup_latitude',\n                 'dropoff_longitude',\n                 'dropoff_latitude']\n\nX = data[base_features]\n\n\ntrain_X, val_X, train_y, val_y = train_test_split(X, y, random_state=1)\nfirst_model = RandomForestRegressor(n_estimators=30, random_state=1).fit(train_X, train_y)\nprint(\"Data sample:\")\ndata.head()",
      "execution_count": null,
      "outputs": []
    },
    {
      "metadata": {
        "_uuid": "6824c5b5f6dd0c36d2241c8c1ba7a91fd0007088",
        "trusted": true
      },
      "cell_type": "code",
      "source": "data.describe()",
      "execution_count": null,
      "outputs": []
    },
    {
      "metadata": {
        "_uuid": "2f123d69fa77cf4e7b8ab0a516847eb897946cf4"
      },
      "cell_type": "markdown",
      "source": "## Question 1\n\nHere is the code to plot the partial dependence plot for pickup_longitude.  Run the following cell."
    },
    {
      "metadata": {
        "_uuid": "cee1fa3fc821af368379072b8bbcd8566b659233",
        "trusted": true
      },
      "cell_type": "code",
      "source": "from matplotlib import pyplot as plt\nfrom pdpbox import pdp, get_dataset, info_plots\n\nfeat_name = 'pickup_longitude'\npdp_dist = pdp.pdp_isolate(model=first_model, dataset=val_X, model_features=base_features, feature=feat_name)\n\npdp.pdp_plot(pdp_dist, feat_name)\nplt.show()",
      "execution_count": null,
      "outputs": []
    },
    {
      "metadata": {
        "_uuid": "6e382d2899d2a9dfbc0c9e421b3a98a17e726f5c"
      },
      "cell_type": "markdown",
      "source": "Why does the partial dependence plot have this U-shape?\n\nDoes your explanation suggest what shape to expect in the partial dependence plots for the other features?\n\nCreate all other partial plots in a for-loop below (copying the appropriate lines from the code above)."
    },
    {
      "metadata": {
        "_uuid": "f68eff44f9f001f634bbc82866420639dc66383d",
        "trusted": true
      },
      "cell_type": "code",
      "source": "for feat_name in base_features:\n    pdp_dist = pdp.pdp_isolate(model=first_model, dataset=val_X, model_features=base_features, feature=feat_name)\n    pdp.pdp_plot(pdp_dist, feat_name)\n    plt.show()",
      "execution_count": null,
      "outputs": []
    },
    {
      "metadata": {
        "_uuid": "628f1482c4e2a2ef2d98aa25d14c8f6f69968974"
      },
      "cell_type": "markdown",
      "source": "Do the shapes match your expectations for what shapes they would have? Can you explain the shape now that you've seen them? \n\nUncomment the following line to check your intuition."
    },
    {
      "metadata": {
        "_uuid": "3b758af5fb1e895d8b089422408190ae57da995a",
        "trusted": true
      },
      "cell_type": "code",
      "source": "q_1.solution()",
      "execution_count": null,
      "outputs": []
    },
    {
      "metadata": {
        "_uuid": "cd7fe44234ada4d3360f12002edae6b919ed7ca7"
      },
      "cell_type": "markdown",
      "source": "## Q2\n\nNow you will run a 2D partial dependence plot.  As a reminder, here is the code from the tutorial.  \n\n```\ninter1  =  pdp.pdp_interact(model=my_model, dataset=val_X, model_features=feature_names, features=['Goal Scored', 'Distance Covered (Kms)'])\n\npdp.pdp_interact_plot(pdp_interact_out=inter1, feature_names=['Goal Scored', 'Distance Covered (Kms)'], plot_type='contour')\nplt.show()\n```\n\nCreate a 2D plot for the features `pickup_longitude` and `dropoff_longitude`.  Plot it appropriately?\n\nWhat do you expect it to look like?"
    },
    {
      "metadata": {
        "_uuid": "749fddc7e3cacba0adc8bc370db7d058b05d5c43",
        "trusted": true
      },
      "cell_type": "code",
      "source": "fnames = ['pickup_longitude', 'dropoff_longitude']\ninter1  =  pdp.pdp_interact(model=first_model, dataset=val_X, model_features=base_features, features=fnames)\n\npdp.pdp_interact_plot(pdp_interact_out=inter1, feature_names=fnames, plot_type='contour')\nplt.show()",
      "execution_count": null,
      "outputs": []
    },
    {
      "metadata": {
        "_uuid": "c3329c9332bfd08ae1b364466ee568fd074c33af"
      },
      "cell_type": "markdown",
      "source": "Uncomment the line below to see the solution and explanation for how one might reason about the plot shape."
    },
    {
      "metadata": {
        "_uuid": "990dd2c81a6955538afdf131bdcdd3df70014dfb",
        "trusted": true
      },
      "cell_type": "code",
      "source": "q_2.solution()",
      "execution_count": null,
      "outputs": []
    },
    {
      "metadata": {
        "_uuid": "d27fddf9dde63ef41e750cd7ea7d58208997beda"
      },
      "cell_type": "markdown",
      "source": "## Question 3\nConsider a ride starting at longitude -73.92 and ending at longitude -74. Using the graph from the last question, estimate how much money the rider would have saved if they'd started the ride at longitude -73.98 instead?"
    },
    {
      "metadata": {
        "_uuid": "e19ca5e3efec8dc06701acbd0a80ded989ee241c",
        "trusted": true
      },
      "cell_type": "code",
      "source": "savings_from_shorter_trip = 15\n\nq_3.check()",
      "execution_count": null,
      "outputs": []
    },
    {
      "metadata": {
        "_uuid": "98ea2b0e53fb4d5b34513e56c151adba4ad8410d"
      },
      "cell_type": "markdown",
      "source": "For a solution or hint, uncomment the appropriate line below."
    },
    {
      "metadata": {
        "_uuid": "bddf2bdddaeaccd6e8c3746f078c375e1874d39e",
        "trusted": false
      },
      "cell_type": "code",
      "source": "# q_3.hint()\n# q_3.solution()",
      "execution_count": null,
      "outputs": []
    },
    {
      "metadata": {
        "_uuid": "0aefdf2f766ebb08bbb35c2370b0c8eb4b734041"
      },
      "cell_type": "markdown",
      "source": "## Question 4\nIn the PDP's you've seen so far, location features have primarily served as a proxy to capture distance traveled. In the permutation importance lessons, you added the features `abs_lon_change` and `abs_lat_change` as a more direct measure of distance.\n\nCreate these features again here. You only need to fill in the top two lines.  Then run the following cell.  \n\n**After you run it, identify the most important difference between this partial dependence plot and the one you got without absolute value features. The code to generate the PDP without absolute value features is at the top of this code cell.**\n\n---"
    },
    {
      "metadata": {
        "_uuid": "131c7bc7256a31fd93967c730227ac9a3a9501d5",
        "trusted": true
      },
      "cell_type": "code",
      "source": "# This is the PDP for pickup_longitude without the absolute difference features. Included here to help compare it to the new PDP you create\nfeat_name = 'pickup_longitude'\npdp_dist_original = pdp.pdp_isolate(model=first_model, dataset=val_X, model_features=base_features, feature=feat_name)\n\npdp.pdp_plot(pdp_dist_original, feat_name)\nplt.show()\n\n\n\n# create new features\ndata['abs_lon_change'] = abs(data.dropoff_longitude - data.pickup_longitude)\ndata['abs_lat_change'] = abs(data.dropoff_latitude - data.pickup_latitude)\n\nfeatures_2  = ['pickup_longitude',\n               'pickup_latitude',\n               'dropoff_longitude',\n               'dropoff_latitude',\n               'abs_lat_change',\n               'abs_lon_change']\n\nX = data[features_2]\nnew_train_X, new_val_X, new_train_y, new_val_y = train_test_split(X, y, random_state=1)\nsecond_model = RandomForestRegressor(n_estimators=30, random_state=1).fit(new_train_X, new_train_y)\n\nfeat_name = 'pickup_longitude'\npdp_dist = pdp.pdp_isolate(model=second_model, dataset=new_val_X, model_features=features_2, feature=feat_name)\n\npdp.pdp_plot(pdp_dist, feat_name)\nplt.show()\n\nq_4.check()",
      "execution_count": null,
      "outputs": []
    },
    {
      "metadata": {
        "_uuid": "5842dbf6119c0fb6b0e264f08b3354aa0ed55bfa"
      },
      "cell_type": "markdown",
      "source": "Uncomment the lines below to see a hint or the solution (including an explanation of the important differences between the plots)."
    },
    {
      "metadata": {
        "_uuid": "5806476351703884bb8afb356bd07b84ba5c757f",
        "trusted": false
      },
      "cell_type": "code",
      "source": "# q_4.hint()\n# q_4.solution()",
      "execution_count": null,
      "outputs": []
    },
    {
      "metadata": {
        "_uuid": "85d61ec78904e8c6439f73c8f688cc89c0d46dd9"
      },
      "cell_type": "markdown",
      "source": "## Question 5\nConsider a scenario where you have only 2 predictive features, which we will call `feat_A` and `feat_B`. Both features have minimum values of -1 and maximum values of 1.  The partial dependence plot for `feat_A` increases steeply over its whole range, whereas the partial dependence plot for feature B increases at a slower rate (less steeply) over its whole range.\n\nDoes this guarantee that `feat_A` will have a higher permutation importance than `feat_B`.  Why or why not?\n\nAfter you've thought about it, uncomment the line below for the solution."
    },
    {
      "metadata": {
        "_uuid": "eece246df3bdacf4739fb4bbb27eae93a623239c",
        "trusted": true
      },
      "cell_type": "code",
      "source": "q_5.solution()",
      "execution_count": null,
      "outputs": []
    },
    {
      "metadata": {
        "_uuid": "6676100209841a65711d86fe4ea4aa0c1f658840"
      },
      "cell_type": "markdown",
      "source": "## Q6\nThe code cell below does the following:\n\n1. Creates two features, `X1` and `X2`, having random values in the range [-2, 2].\n2. Creates a target variable `y`, which is always 1.\n3. Trains a `RandomForestRegressor` model to predict `y` given `X1` and `X2`.\n4. Creates a PDP plot for `X1` and a scatter plot of `X1` vs. `y`.\n\nDo you have a prediction about what the PDP plot will look like? Run the cell to find out.\n\nModify the initialization of `y` so that our PDP plot has a positive slope in the range [-1,1], and a negative slope everywhere else. (Note: *you should only modify the creation of `y`, leaving `X1`, `X2`, and `my_model` unchanged.*)"
    },
    {
      "metadata": {
        "_uuid": "0cbdf30dad46b9db2d3462c1d16bbfa2befb425e",
        "trusted": true
      },
      "cell_type": "code",
      "source": "from numpy.random import rand\nimport numpy as np\n\nn_samples = 20000\n\n# Create array holding predictive feature\nX1 = 4 * rand(n_samples) - 2\nX2 = 4 * rand(n_samples) - 2\n# Create y. you should have X1 and X2 in the expression for y\ny = -2 * X1 * (X1<-1) + X1 - 2 * X1 * (X1>1) - X2\n\n# create dataframe because pdp_isolate expects a dataFrame as an argument\nmy_df = pd.DataFrame({'X1': X1, 'X2': X2, 'y': y})\npredictors_df = my_df.drop(['y'], axis=1)\n\nmy_model = RandomForestRegressor(n_estimators=30, random_state=1).fit(predictors_df, my_df.y)\n\npdp_dist = pdp.pdp_isolate(model=my_model, dataset=my_df, model_features=['X1', 'X2'], feature='X1')\n\n# visualize your results\npdp.pdp_plot(pdp_dist, 'X1')\nplt.show()\n\nq_6.check()",
      "execution_count": null,
      "outputs": []
    },
    {
      "metadata": {
        "_uuid": "67c6d911e1a29b379fe5162b21a4052d796648e5"
      },
      "cell_type": "markdown",
      "source": "Uncomment the lines below for a hint or solution"
    },
    {
      "metadata": {
        "_uuid": "97fa6e9b52d4de10ce17750b8c66c3cf9e2df611",
        "trusted": true
      },
      "cell_type": "code",
      "source": "# q_6.hint()\nq_6.solution()",
      "execution_count": null,
      "outputs": []
    },
    {
      "metadata": {
        "_uuid": "55c96a2fc27fc422b96a3d4ab1f517471e45b5c0"
      },
      "cell_type": "markdown",
      "source": "## Question 7\nCreate a dataset with 2 features and a target, such that the pdp of the first feature is flat, but its permutation importance is high.  We will use a RandomForest for the model.\n\n*Note: You only need to supply the lines that create the variables X1, X2 and y. The code to build the model and calculate insights is provided*."
    },
    {
      "metadata": {
        "_uuid": "6ab3684d4a3d0fa61069537ec64139249b87b6fa",
        "trusted": true,
        "scrolled": true
      },
      "cell_type": "code",
      "source": "import eli5\nfrom eli5.sklearn import PermutationImportance\n\nn_samples = 20000\n\n# Create array holding predictive feature\nX1 = 4 * rand(n_samples) - 2\nX2 = 4 * rand(n_samples) - 2\n# Create y. you should have X1 and X2 in the expression for y\ny = X1 * X2\n\n\n# create dataframe because pdp_isolate expects a dataFrame as an argument\nmy_df = pd.DataFrame({'X1': X1, 'X2': X2, 'y': y})\npredictors_df = my_df.drop(['y'], axis=1)\n\nmy_model = RandomForestRegressor(n_estimators=30, random_state=1).fit(predictors_df, my_df.y)\n\n\npdp_dist = pdp.pdp_isolate(model=my_model, dataset=my_df, model_features=['X1', 'X2'], feature='X1')\npdp.pdp_plot(pdp_dist, 'X1')\nplt.show()\n\nperm = PermutationImportance(my_model).fit(predictors_df, my_df.y)\n\nq_7.check()\n\n# show the weights for the permutation importance you just calculated\neli5.show_weights(perm, feature_names = ['X1', 'X2'])",
      "execution_count": null,
      "outputs": []
    },
    {
      "metadata": {
        "_uuid": "ea536596d54400f61cf952f28c968e536e18bbf0",
        "trusted": true
      },
      "cell_type": "code",
      "source": "# Uncomment the following lines for the hint or solution\n# q_7.hint()\n# q_7.solution()",
      "execution_count": null,
      "outputs": []
    },
    {
      "metadata": {
        "_uuid": "acfe1e7b54f4a258c7d7524381ac589b218d9cf8"
      },
      "cell_type": "markdown",
      "source": "## Congrats\n\nPartial dependence plots can be really interesting. We have a [discussion thread](https://www.kaggle.com/learn-forum/65782) to talk about what real-world topics or questions you'd be curious to see addressed with partial dependence plots. \n\nNext up is **SHAP values** which help you understand the logic for each individual prediction."
    }
  ],
  "metadata": {
    "kernelspec": {
      "display_name": "Python 3",
      "language": "python",
      "name": "python3"
    },
    "language_info": {
      "name": "python",
      "version": "3.6.6",
      "mimetype": "text/x-python",
      "codemirror_mode": {
        "name": "ipython",
        "version": 3
      },
      "pygments_lexer": "ipython3",
      "nbconvert_exporter": "python",
      "file_extension": ".py"
    }
  },
  "nbformat": 4,
  "nbformat_minor": 1
}