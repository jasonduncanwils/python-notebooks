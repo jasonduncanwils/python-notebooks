{
  "cells": [
    {
      "metadata": {
        "_uuid": "c7d83037a98ae1e03d2d6f5286f49837e5f52eb5"
      },
      "cell_type": "markdown",
      "source": "# Exercises\n\n## Intro\n\nYou will think about and calculate permutation importance with a sample of data from the [Taxi Fare Prediction](https://www.kaggle.com/c/new-york-city-taxi-fare-prediction) competition.\n\nWe won't focus on data exploration or model building for now. You can just run the cell below to \n- Load the data\n- Divide the data into training and validation\n- Build a model that predicts taxi fares\n- Print a few rows for you to review"
    },
    {
      "metadata": {
        "_cell_guid": "b1076dfc-b9ad-4769-8c92-a6c4dae69d19",
        "_uuid": "8f2839f25d086af736a60e9eeb907d3b93b6e0e5",
        "trusted": true
      },
      "cell_type": "code",
      "source": "# Loading data, dividing, modeling and EDA below\nimport pandas as pd\nfrom sklearn.ensemble import RandomForestRegressor\nfrom sklearn.linear_model import LinearRegression\nfrom sklearn.model_selection import train_test_split\n\ndata = pd.read_csv('../input/new-york-city-taxi-fare-prediction/train.csv', nrows=50000)\n\n# Remove data with extreme outlier coordinates or negative fares\ndata = data.query('pickup_latitude > 40.7 and pickup_latitude < 40.8 and ' +\n                  'dropoff_latitude > 40.7 and dropoff_latitude < 40.8 and ' +\n                  'pickup_longitude > -74 and pickup_longitude < -73.9 and ' +\n                  'dropoff_longitude > -74 and dropoff_longitude < -73.9 and ' +\n                  'fare_amount > 0'\n                  )\n\ny = data.fare_amount\n\nbase_features = ['pickup_longitude',\n                 'pickup_latitude',\n                 'dropoff_longitude',\n                 'dropoff_latitude',\n                 'passenger_count']\n\nX = data[base_features]\n\n\ntrain_X, val_X, train_y, val_y = train_test_split(X, y, random_state=1)\nfirst_model = RandomForestRegressor(n_estimators=30, random_state=1).fit(train_X, train_y)\n\n# Environment Set-Up for feedback system.\nimport sys\nsys.path.append('../input/ml-insights-tools')\nfrom learntools.core import binder\nbinder.bind(globals())\nfrom ex2 import *\nprint(\"Setup Complete\")\n\n# show data\nprint(\"Data sample:\")\ndata.head()",
      "execution_count": null,
      "outputs": []
    },
    {
      "metadata": {
        "_uuid": "c960d1abc6a950189fbc35653521c3d81c190388"
      },
      "cell_type": "markdown",
      "source": "The following two cells may also be useful to understand the values in the training data:"
    },
    {
      "metadata": {
        "_uuid": "a55857dbb4bd1c9a997f0005f19b5534d4673ee4",
        "trusted": true
      },
      "cell_type": "code",
      "source": "train_X.describe()",
      "execution_count": null,
      "outputs": []
    },
    {
      "metadata": {
        "_uuid": "893bbc3e565a2050dfff38a25f583cb3a0c5e54d",
        "trusted": true
      },
      "cell_type": "code",
      "source": "train_y.describe()",
      "execution_count": null,
      "outputs": []
    },
    {
      "metadata": {
        "_uuid": "136863e43574c5ce2d8c4d59b7ded99a68b0f412"
      },
      "cell_type": "markdown",
      "source": "## Question 1\n\nThe first model uses the following features\n- pickup_longitude\n- pickup_latitude\n- dropoff_longitude\n- dropoff_latitude\n- passenger_count\n\nBefore running any code... which variables seem potentially useful for predicting taxi fares? Do you think permutation importance will necessarily identify these features as important?\n\nOnce you've thought about it, run `q_1.solution()` below to see how you might think about this before running the code."
    },
    {
      "metadata": {
        "_uuid": "71fa5ba892c44337e06682a34a109d02e1cd1487",
        "trusted": true
      },
      "cell_type": "code",
      "source": "q_1.solution()",
      "execution_count": null,
      "outputs": []
    },
    {
      "metadata": {
        "_uuid": "2380dbec664de002077c543574bb95ea92c6cec1"
      },
      "cell_type": "markdown",
      "source": "## Question 2\n\nCreate a `PermutationImportance` object called `perm` to show the importances from `first_model`.  Fit it with the appropriate data and show the weights.\n\nFor your convenience, the code from the tutorial has been copied into a comment in this code cell."
    },
    {
      "metadata": {
        "_uuid": "d5f739465cadf0a5c8c0726a6e071d4b963c745d",
        "trusted": true
      },
      "cell_type": "code",
      "source": "import eli5\nfrom eli5.sklearn import PermutationImportance\n\n# Make a small change to the code below to use in this problem. \nperm = PermutationImportance(first_model, random_state=1).fit(val_X, val_y)\n\nq_2.check()\n\n# uncomment the following line to visualize your results\neli5.show_weights(perm, feature_names = val_X.columns.tolist())",
      "execution_count": null,
      "outputs": []
    },
    {
      "metadata": {
        "_uuid": "3eeb2fe0fda0e7059ac7c9ece5f84fdddceed097"
      },
      "cell_type": "markdown",
      "source": "Uncomment the lines below for a hint or to see the solution."
    },
    {
      "metadata": {
        "_uuid": "aeabd9a161be22e11fbe4b7b84761f5f73542f23",
        "trusted": false
      },
      "cell_type": "code",
      "source": "# q_2.hint()\n# q_2.solution()",
      "execution_count": null,
      "outputs": []
    },
    {
      "metadata": {
        "_uuid": "4c947ebee7240ab86f8122d232b1a43210485048"
      },
      "cell_type": "markdown",
      "source": "## Question 3\nBefore seeing these results, we might have expected each of the 4 directional features to be equally important.\n\nBut, on average, the latitude features matter more than the longititude features. Can you come up with any hypotheses for this?\n\nAfter you've thought about it, check here for some possible explanations:"
    },
    {
      "metadata": {
        "_uuid": "70ad8bbbc6822b8324a61df1d71a69c23d553401",
        "trusted": true
      },
      "cell_type": "code",
      "source": "q_3.solution()",
      "execution_count": null,
      "outputs": []
    },
    {
      "metadata": {
        "_uuid": "9f0246bd0731245247d335f183838b6b65a6bd4a"
      },
      "cell_type": "markdown",
      "source": "## Question 4\n\nWithout detailed knowledge of New York City, it's difficult to rule out most hypotheses about why latitude features matter more than longitude.\n\nA good next step is to disentangle the effect of being in certain parts of the city from the effect of total distance traveled.  \n\nThe code below creates new features for longitudinal and latitudinal distance. It then builds a model that adds these new features to those you already had.\n\nFill in two lines of code to calculate and show the importance weights with this new set of features. As usual, you can uncomment lines below to check your code, see a hint or get the solution."
    },
    {
      "metadata": {
        "_uuid": "64ee1e4d02141417f0e70ba84509ec49cb06fa8f",
        "trusted": true
      },
      "cell_type": "code",
      "source": "# create new features\ndata['abs_lon_change'] = abs(data.dropoff_longitude - data.pickup_longitude)\ndata['abs_lat_change'] = abs(data.dropoff_latitude - data.pickup_latitude)\n\nfeatures_2  = ['pickup_longitude',\n               'pickup_latitude',\n               'dropoff_longitude',\n               'dropoff_latitude',\n               'abs_lat_change',\n               'abs_lon_change']\n\nX = data[features_2]\nnew_train_X, new_val_X, new_train_y, new_val_y = train_test_split(X, y, random_state=1)\nsecond_model = RandomForestRegressor(n_estimators=30, random_state=1).fit(new_train_X, new_train_y)\n\n# Create a PermutationImportance object on second_model and fit it to new_val_X and new_val_y\n# Use a random_state of 1 for reproducible results that match the expected solution.\nperm2 = PermutationImportance(second_model, random_state=1).fit(new_val_X, new_val_y)\n\nq_4.check()\n\n# show the weights for the permutation importance you just calculated\neli5.show_weights(perm2, feature_names = new_val_X.columns.tolist())",
      "execution_count": null,
      "outputs": []
    },
    {
      "metadata": {
        "_uuid": "abb03aac54ded17863fb9992a515234d604aedeb"
      },
      "cell_type": "markdown",
      "source": "How would you interpret these importance scores? Distance traveled seems far more important than any location effects. \n\nBut the location still affects model predictions, and dropoff location now matters slightly more than pickup location. Do you have any hypotheses for why this might be? The techniques used later in the course will help us dive into this more."
    },
    {
      "metadata": {
        "_uuid": "99240da2ec438d99cc3181614c0165d08d4ef0dc",
        "trusted": false
      },
      "cell_type": "code",
      "source": "# q_4.solution()",
      "execution_count": null,
      "outputs": []
    },
    {
      "metadata": {
        "_uuid": "a2be9430958b059d6a4e5cd87b7760244d4f2897"
      },
      "cell_type": "markdown",
      "source": "## Question 5\n\nA colleague observes that the values for `abs_lon_change` and `abs_lat_change` are pretty small (all values are between -0.1 and 0.1), whereas other variables have larger values.  Do you think this could explain why those coordinates had larger permutation importance values in this case?  \n\nConsider an alternative where you created and used a feature that was 100X as large for these features, and used that larger feature for training and importance calculations. Would this change the outputted permutaiton importance values?\n\nWhy or why not?\n\nAfter you have thought about your answer, either try this experiment or look up the answer in the cell below"
    },
    {
      "metadata": {
        "_uuid": "0f6369329f5188382a917bce3458aeb7a6759324",
        "trusted": true
      },
      "cell_type": "code",
      "source": "q_5.solution()",
      "execution_count": null,
      "outputs": []
    },
    {
      "metadata": {
        "_uuid": "3e74bd4dd0669062a0e6aa4763ebe0c342ef18b4"
      },
      "cell_type": "markdown",
      "source": "## Question 6\n\nYou've seen that the feature importance for latitudinal distance is greater than the importance of longitudinal distance. From this, can we conclude whether travelling a fixed latitudinal distance tends to be more expensive than traveling the same longitudinal distance?\n\nWhy or why not? Check your answer below."
    },
    {
      "metadata": {
        "_uuid": "2e976ea9aedd2c4de5f2ec614ca00b5638406073",
        "trusted": true
      },
      "cell_type": "code",
      "source": "q_6.solution()",
      "execution_count": null,
      "outputs": []
    },
    {
      "metadata": {
        "_uuid": "9f1d669a49327dd8623404f07ee7168f4b40890e"
      },
      "cell_type": "markdown",
      "source": "## Congrats\n\nPermutation importance is useful useful for debugging, understanding your model, and communicating a high-level overview from your model.  Next up will be partial dependence plots, which will help you see how individual features affect predictions."
    }
  ],
  "metadata": {
    "kernelspec": {
      "display_name": "Python 3",
      "language": "python",
      "name": "python3"
    },
    "language_info": {
      "name": "python",
      "version": "3.6.6",
      "mimetype": "text/x-python",
      "codemirror_mode": {
        "name": "ipython",
        "version": 3
      },
      "pygments_lexer": "ipython3",
      "nbconvert_exporter": "python",
      "file_extension": ".py"
    }
  },
  "nbformat": 4,
  "nbformat_minor": 1
}