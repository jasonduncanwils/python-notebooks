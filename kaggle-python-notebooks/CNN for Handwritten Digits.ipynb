{
  "cells": [
    {
      "metadata": {
        "_uuid": "e40425782f038bcaa0a8269e20a1684c1f6e8612"
      },
      "cell_type": "markdown",
      "source": "This is my first kernel on Kaggle that incorporates at a neural network. The following kernels were very helpful for me to learn from:\n* [Yassine's kernel](https://www.kaggle.com/yassineghouzam/introduction-to-cnn-keras-0-997-top-6)\n\n<br/>\nThe thought of all of these poorly handwritten digits made me think of school children...which in turn led me to think of Pink Floyd and the image below. I'm feeling a strong appreciation for Kaggle right now because there's definitely no \"dark sarcasm in the classroom\" here which is one of the many reasons I'm learning so much."
    },
    {
      "metadata": {
        "_kg_hide-input": true,
        "trusted": true,
        "_uuid": "92646b8d92b15a4a2311b20e9b144b3c6dd51196"
      },
      "cell_type": "code",
      "source": "from IPython.display import Image\nurl = 'https://bplusmovieblog.files.wordpress.com/2016/08/pink-floyd-the-wall-18.png'\nImage(url=url,width=800, height=600)",
      "execution_count": null,
      "outputs": []
    },
    {
      "metadata": {
        "_uuid": "8f2839f25d086af736a60e9eeb907d3b93b6e0e5",
        "_cell_guid": "b1076dfc-b9ad-4769-8c92-a6c4dae69d19",
        "trusted": true
      },
      "cell_type": "code",
      "source": "import pandas as pd\nimport numpy as np\nimport matplotlib.pyplot as plt\nimport matplotlib.image as mpimg\nimport seaborn as sns\n%matplotlib inline\n\nnp.random.seed(2)\n\nfrom sklearn.model_selection import train_test_split\nfrom sklearn.metrics import confusion_matrix\nimport itertools\n\nfrom keras.utils.np_utils import to_categorical # convert to one-hot-encoding\nfrom keras.models import Sequential\nfrom keras.layers import Dense, Dropout, Flatten, Conv2D, MaxPool2D\nfrom keras.optimizers import RMSprop\nfrom keras.preprocessing.image import ImageDataGenerator\nfrom keras.callbacks import ReduceLROnPlateau\n\n#sns.set(style='white', context='notebook', palette='deep')",
      "execution_count": null,
      "outputs": []
    },
    {
      "metadata": {
        "trusted": true,
        "_uuid": "34a407733ff08336a05fc83140ed0539a33fac00"
      },
      "cell_type": "code",
      "source": "# Load the data\ntrain = pd.read_csv(\"../input/train.csv\")\ntest = pd.read_csv(\"../input/test.csv\")",
      "execution_count": null,
      "outputs": []
    },
    {
      "metadata": {
        "trusted": true,
        "_uuid": "bd11f9bac04e645047b32bafc7fb50d6384b1d09"
      },
      "cell_type": "code",
      "source": "train.columns",
      "execution_count": null,
      "outputs": []
    },
    {
      "metadata": {
        "trusted": true,
        "_uuid": "75f28854a94e8521fba6fc7035bc532390c0f79f"
      },
      "cell_type": "code",
      "source": "print(\"Columns in training data but not in testing data\")\nprint([x for x in train.columns if x not in test.columns])\nprint(\"Columns in testing data but not in training data\")\nprint([x for x in test.columns if x not in train.columns])",
      "execution_count": null,
      "outputs": []
    }
  ],
  "metadata": {
    "kernelspec": {
      "display_name": "Python 3",
      "language": "python",
      "name": "python3"
    },
    "language_info": {
      "name": "python",
      "version": "3.6.6",
      "mimetype": "text/x-python",
      "codemirror_mode": {
        "name": "ipython",
        "version": 3
      },
      "pygments_lexer": "ipython3",
      "nbconvert_exporter": "python",
      "file_extension": ".py"
    }
  },
  "nbformat": 4,
  "nbformat_minor": 1
}