{
  "cells": [
    {
      "metadata": {
        "_uuid": "653b8f50156c4283c49452bf55878c4ab719f4a8"
      },
      "cell_type": "markdown",
      "source": "# Exercises\n\n## Set Up\n\nAt this point, you have enough tools to put together compelling solutions to real-world problems. You will ned to pick the right techniques for each part of the following data science scenario. Along the way, you'll use SHAP values along with your other insights tools.\n\n**The questions below give you feedback on your work by using some checking code. Run the following cell to set up our feedback system.**"
    },
    {
      "metadata": {
        "_uuid": "0178a2421303fccd85d85953194cb7d89117e5f0",
        "trusted": true
      },
      "cell_type": "code",
      "source": "import sys\nsys.path.append('../input/ml-insights-tools')\nfrom ex4 import *\nprint(\"Setup Complete\")",
      "execution_count": null,
      "outputs": []
    },
    {
      "metadata": {
        "_uuid": "f9df8b594da30a3000bc61b38f207ed2a85b9757"
      },
      "cell_type": "markdown",
      "source": "## The Scenario\nA hospital has struggled with \"readmissions,\" where they release a patient before the patient has recovered enough, and the patient returns with health complications. \n\nThe hospital wants your help identifying patients at highest risk of being readmitted. Doctors (rather than your model) will make the final decision about when to release each patient; but they hope your model will highlight issues the doctors should consider when releasing a patient.\n\nThe hospital has given you relevant patient medical information.  Here is a list of columns in the data:\n"
    },
    {
      "metadata": {
        "_uuid": "53ec765672727a7b9e0bbd75825ba064864fa389",
        "trusted": true
      },
      "cell_type": "code",
      "source": "import pandas as pd\ndata = pd.read_csv('../input/hospital-readmissions/train.csv')\ndata.columns",
      "execution_count": null,
      "outputs": []
    },
    {
      "metadata": {
        "_uuid": "59bb0c6c5e677db2f3126ff54b03a998bd52f57e"
      },
      "cell_type": "markdown",
      "source": "Here are some quick hints at interpreting the field names:\n\n- Your prediction target is `readmitted`\n- Columns with the word `diag` indicate the diagnostic code of the illness or illnesses the patient was admitted with. For example, `diag_1_428` means the doctor said their first illness diagnosis is number \"428\".  What illness does 428 correspond to? You could look it up in a codebook, but without more medical background it wouldn't mean anything to you anyway.\n- A column names like `glimepiride_No` mean the patient did not have the medicine `glimepiride`. If this feature had a value of False, then the patient did take the drug `glimepiride`\n- Features whose names begin with `medical_specialty` describe the specialty of the doctor seeing the patient. The values in these fields are all `True` or `False`.\n"
    },
    {
      "metadata": {
        "_uuid": "ff9c97e76d0ee41f0fe191f58622812c40db0376"
      },
      "cell_type": "markdown",
      "source": "## Your Code Library\nAs you write code to work through this scenario, these code snippets from previous tutorials may be useful. You'll still need to modify them, but we've copied them here to save you from having to look them up.\n\n**Calculate and show permutation importance:**\n```\nimport eli5\nfrom eli5.sklearn import PermutationImportance\n\nperm = PermutationImportance(my_model, random_state=1).fit(val_X, val_y)\neli5.show_weights(perm, feature_names = val_X.columns.tolist())\n```\n\n**Calculate and show partial dependence plot:**\n```\nfrom matplotlib import pyplot as plt\nfrom pdpbox import pdp, get_dataset, info_plots\n\n# Create the data that we will plot\npdp_goals = pdp.pdp_isolate(model=my_model, dataset=val_X, model_features=feature_names, feature='Goal Scored')\n\n# plot it\npdp.pdp_plot(pdp_goals, 'Goal Scored')\nplt.show()\n```\n\n**Calculate and show Shap Values for One Prediction:**\n```\nimport shap  # package used to calculate Shap values\n\ndata_for_prediction = val_X.iloc[0,:]  # use 1 row of data here. Could use multiple rows if desired\n\n# Create object that can calculate shap values\nexplainer = shap.TreeExplainer(my_model)\nshap_values = explainer.shap_values(data_for_prediction)\nshap.initjs()\nshap.force_plot(explainer.expected_value[0], shap_values[0], data_for_prediction)\n```\n\n## Step 1:\nYou have built a simple model, but the doctors say they don't know how to evaluate a model, and they'd like you to show them some evidence the model is doing something in line with their medical intuition. Create any graphics or tables that will show them a quick overview of what the model is doing?\n\nThey are very busy. So they want you to condense your model overview into just 1 or 2 graphics, rather than a long string of graphics.\n\nWe'll start after the point where you've built a basic model. Just run the following cell to build the model called `my_model`."
    },
    {
      "metadata": {
        "_uuid": "5f69de96e52656ff8ebd81d193cb86898404bdf6",
        "trusted": true
      },
      "cell_type": "code",
      "source": "import pandas as pd\nfrom sklearn.ensemble import RandomForestClassifier\nfrom sklearn.model_selection import train_test_split\n\n\ndata = pd.read_csv('../input/hospital-readmissions/train.csv')\n\ny = data.readmitted\n\nbase_features = [c for c in data.columns if c != \"readmitted\"]\n\nX = data[base_features]\n\n\ntrain_X, val_X, train_y, val_y = train_test_split(X, y, random_state=1)\nmy_model = RandomForestClassifier(n_estimators=30, random_state=1).fit(train_X, train_y)\n",
      "execution_count": null,
      "outputs": []
    },
    {
      "metadata": {
        "_uuid": "97a7496bc508d8f9ea58c3a57f1700cb3e12505d"
      },
      "cell_type": "markdown",
      "source": "Now use the following cell to create the materials for the doctors."
    },
    {
      "metadata": {
        "_uuid": "9e63e7000ededf2f392c54f766da7e99fb930264",
        "trusted": true
      },
      "cell_type": "code",
      "source": "import eli5\nfrom eli5.sklearn import PermutationImportance\n\nperm = PermutationImportance(my_model, random_state=1).fit(val_X, val_y)\neli5.show_weights(perm, feature_names = val_X.columns.tolist())",
      "execution_count": null,
      "outputs": []
    },
    {
      "metadata": {
        "_uuid": "5a21da43ded935615424932f9b6b2f343322dd42"
      },
      "cell_type": "markdown",
      "source": "For our idea of what to show, run the cell below.  "
    },
    {
      "metadata": {
        "_uuid": "22232bb75a26b5d9dde36a5bf5977cf516a22366",
        "trusted": true
      },
      "cell_type": "code",
      "source": "#q_1.solution()",
      "execution_count": null,
      "outputs": []
    },
    {
      "metadata": {
        "_uuid": "cbd1e8b6235df387352e0f6e64012633ee9c80d5"
      },
      "cell_type": "markdown",
      "source": "If you'd like to discuss your approach or see what others have done, we have a discussion forum [here](https://www.kaggle.com/learn-forum/66267#latest-390149).\n\n"
    },
    {
      "metadata": {
        "_uuid": "a4d4ba7873d890f15dabbeb7a0a90eab306877fe"
      },
      "cell_type": "markdown",
      "source": "## Step 2\n\nIt appears `number_inpatient` is a really important feature. The doctors would like to know more about that. Create a graph for them that shows how `num_inpatient` affects the model's predictions."
    },
    {
      "metadata": {
        "_uuid": "b02852f76ecea6dc0ac2ca8b2b03b49bb47113f0",
        "trusted": true
      },
      "cell_type": "code",
      "source": "from matplotlib import pyplot as plt\nfrom pdpbox import pdp, get_dataset, info_plots\n\nfeature_to_analyze = 'number_inpatient'\npdp_goals = pdp.pdp_isolate(model=my_model, dataset=val_X, model_features=val_X.columns.tolist(), feature=feature_to_analyze)\n\n# plot it\npdp.pdp_plot(pdp_goals, 'Number Inpatient')\nplt.show()",
      "execution_count": null,
      "outputs": []
    },
    {
      "metadata": {
        "_uuid": "faadbecc7e58f251c3dc438559211876db7da823"
      },
      "cell_type": "markdown",
      "source": "For our solution, uncomment the line below."
    },
    {
      "metadata": {
        "_uuid": "01a1305c9b80c8fc79b93fdd74e0ab2832e91b30",
        "trusted": true
      },
      "cell_type": "code",
      "source": "#q_2.solution()",
      "execution_count": null,
      "outputs": []
    },
    {
      "metadata": {
        "_uuid": "4315a3ecf797bae1b35ca87c9f876a0995e0978d"
      },
      "cell_type": "markdown",
      "source": "## Step 3\n\nThe doctors think it's a good sign that increasing the number of inpatient procedures leads to increased predictions.  But they can't tell from this plot whether that change in the plot is big or small. They'd like you to create something similar for `time_in_hospital` to see how that compares."
    },
    {
      "metadata": {
        "_uuid": "e559e36c2f59d33a0f8c2eb16cd58e84c3ee5258",
        "trusted": true
      },
      "cell_type": "code",
      "source": "feature_to_analyze = 'time_in_hospital'\npdp_goals = pdp.pdp_isolate(model=my_model, dataset=val_X, model_features=val_X.columns.tolist(), feature=feature_to_analyze)\n\n# plot it\npdp.pdp_plot(pdp_goals, 'Number Inpatient')\nplt.show()",
      "execution_count": null,
      "outputs": []
    },
    {
      "metadata": {
        "_uuid": "5acb269543dc56f0092bb697ce0180dfb0b38c6a"
      },
      "cell_type": "markdown",
      "source": "Uncomment the relevant line below to see one solution."
    },
    {
      "metadata": {
        "_uuid": "33e14e82116de1a16bd25eaa0b6963261ce40af1",
        "trusted": true
      },
      "cell_type": "code",
      "source": "#q_3.solution()",
      "execution_count": null,
      "outputs": []
    },
    {
      "metadata": {
        "_uuid": "e148aba5e2b02c5386d05f60b0fb2cb3430209aa"
      },
      "cell_type": "markdown",
      "source": "## Step 4\n\nWoah!  It seems like `time_in_hospital` doesn't matter at all.  The difference between the lowest value on the partial dependence plot and the highest value is about 5%.\n\nIf that is what your model concluded, the doctors will believe it. But it seems so low. Could  the data be wrong, or is your model doing something more complex than they expect?  \n\nThey'd like you to show them the raw readmission rate for each value of `time_in_hospital` to see how it compares to the partial dependence plot.\n\n- Make that plot. \n- Are the results similar or different?"
    },
    {
      "metadata": {
        "_uuid": "ae51b2c2ded0505a86acd753ab552c2f3b982958",
        "trusted": true
      },
      "cell_type": "code",
      "source": "all_train = pd.concat([train_X, train_y], axis=1)\n\nall_train.groupby(['time_in_hospital']).mean().readmitted.plot()\nplt.show()",
      "execution_count": null,
      "outputs": []
    },
    {
      "metadata": {
        "_uuid": "281eeeb5df763525321f327d60a1fa9630200bf0"
      },
      "cell_type": "markdown",
      "source": "For a hint or solution, uncomment the relevant line below."
    },
    {
      "metadata": {
        "_uuid": "7f746dddf0b5ae2c74ab31c153b3761b84815579",
        "trusted": true
      },
      "cell_type": "code",
      "source": "# q_4.hint()\n# q_4.solution()",
      "execution_count": null,
      "outputs": []
    },
    {
      "metadata": {
        "_uuid": "5d0cb751a57b6f33ed22dfc863fb5bb0eaa52345"
      },
      "cell_type": "markdown",
      "source": "## Step 5\nNow the doctors are convinced you have the right data, and the model overview looked reasonable.  It's time to turn this into a finished product they can use. Specifically, the hospital wants you to create a function `patient_risk_factors` that does the following\n- Takes a single row with patient data (of the same format you as your raw data)\n- Creates a visualization showing what features of that patient increased their risk of readmission, what features decreased it, and how much those features mattered.\n\nIt's not important to show every feature with every miniscule impact on the readmission risk.  It's fine to focus on only the most important features for that patient."
    },
    {
      "metadata": {
        "_uuid": "5e99825d6970f566173314b6b830d726c9236e0b",
        "trusted": true
      },
      "cell_type": "code",
      "source": "import shap  # package used to calculate Shap values\n\ndef patient_risk_factors(model, patient_data):\n    # Create object that can calculate shap values\n    explainer = shap.TreeExplainer(model)\n    shap_values = explainer.shap_values(patient_data)\n    shap.initjs()\n    return shap.force_plot(explainer.expected_value[1], shap_values[1], patient_data)\n\nsample_data_for_prediction = val_X.iloc[0].astype(float)\npatient_risk_factors(my_model, sample_data_for_prediction)",
      "execution_count": null,
      "outputs": []
    },
    {
      "metadata": {
        "_uuid": "adc2c0813d51de9a0cfe2cde6fbac85612302355"
      },
      "cell_type": "markdown",
      "source": "Uncomment the relevant line below for a hint or solution."
    },
    {
      "metadata": {
        "_uuid": "c33e96c238f4d4858062613b02980de8279b8b86",
        "trusted": true
      },
      "cell_type": "code",
      "source": "# q_5.hint()\n#q_5.solution()",
      "execution_count": null,
      "outputs": []
    },
    {
      "metadata": {
        "_uuid": "4e1bc842b87a8659e2a6a716bf387220521ba549"
      },
      "cell_type": "markdown",
      "source": "## Congrats\nYou have some powerful tools to get insights about both models and individual predictions. Next up, we will look at aggregated SHAP values to link the model-level and prediction-level insights."
    }
  ],
  "metadata": {
    "kernelspec": {
      "display_name": "Python 3",
      "language": "python",
      "name": "python3"
    },
    "language_info": {
      "name": "python",
      "version": "3.6.6",
      "mimetype": "text/x-python",
      "codemirror_mode": {
        "name": "ipython",
        "version": 3
      },
      "pygments_lexer": "ipython3",
      "nbconvert_exporter": "python",
      "file_extension": ".py"
    }
  },
  "nbformat": 4,
  "nbformat_minor": 1
}